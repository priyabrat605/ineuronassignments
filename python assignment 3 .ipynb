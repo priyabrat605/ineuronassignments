{
  "nbformat": 4,
  "nbformat_minor": 0,
  "metadata": {
    "colab": {
      "name": "Untitled26.ipynb",
      "provenance": []
    },
    "kernelspec": {
      "name": "python3",
      "display_name": "Python 3"
    }
  },
  "cells": [
    {
      "cell_type": "code",
      "metadata": {
        "id": "BT7HKSGqhdNM"
      },
      "source": [
        "# Reduce will produce a single result\r\n",
        "def myreduce(anyfunc, sequence):\r\n",
        "\r\n",
        " # Get first item in sequence and assign to result\r\n",
        "  result = sequence[0]\r\n",
        " # iterate over remaining items in sequence and apply reduction function \r\n",
        "  for item in sequence[1:]:\r\n",
        "   result = anyfunc(result, item)\r\n",
        "\r\n",
        "  return result\r\n",
        "  \r\n",
        "# test myreduce function\r\n",
        "def sum(x,y): return x + y\r\n",
        "\r\n",
        "print (\"Sum on list [1,2,3] using custom reduce function \"   + str(myreduce(sum, [1,2,3])) )"
      ],
      "execution_count": null,
      "outputs": []
    },
    {
      "cell_type": "code",
      "metadata": {
        "id": "JbfqglwgnubH"
      },
      "source": [
        "\r\n",
        "\r\n",
        "\r\n",
        "# Custom filter function \r\n",
        "def myfilter(anyfunc, sequence):\r\n",
        "\r\n",
        " # Initialize empty list\r\n",
        " result = []\r\n",
        " # iterate over sequence of items in sequence and apply filter function\r\n",
        " for item in sequence:\r\n",
        "  if anyfunc(item):\r\n",
        "   result.append(item)\r\n",
        "\r\n",
        " # return funal output\r\n",
        " return result\r\n",
        "\r\n",
        "\r\n",
        "\r\n",
        "# test myfilter function\r\n",
        "def ispositive(x):\r\n",
        " if (x <= 0): \r\n",
        "  return False \r\n",
        " else: \r\n",
        "  return True\r\n",
        "\r\n",
        "print (\"Filter only positive Integers on list [0,1,-2,3,4,5] using custom filter function\"  + str(myfilter(ispositive, [0,1,-2,3,4,5])))"
      ],
      "execution_count": null,
      "outputs": []
    },
    {
      "cell_type": "code",
      "metadata": {
        "colab": {
          "base_uri": "https://localhost:8080/"
        },
        "id": "Wv35n_UPnxRN",
        "outputId": "4963b003-411b-4af8-d08b-19832ae328b2"
      },
      "source": [
        "input_list=['x','y','z']\r\n",
        "result=[item*num for item in input_list for num in range(1,5)]\r\n",
        "print(\"printing the output here  \"+str(result))"
      ],
      "execution_count": 3,
      "outputs": [
        {
          "output_type": "stream",
          "text": [
            "printing the output here  ['x', 'xx', 'xxx', 'xxxx', 'y', 'yy', 'yyy', 'yyyy', 'z', 'zz', 'zzz', 'zzzz']\n"
          ],
          "name": "stdout"
        }
      ]
    },
    {
      "cell_type": "code",
      "metadata": {
        "colab": {
          "base_uri": "https://localhost:8080/"
        },
        "id": "sS-xjUYBn-7O",
        "outputId": "daf861d5-e986-47d2-d6ad-302a3caf6884"
      },
      "source": [
        "# Compress above for loop into a single list comprehension using technique [i <Upper for condition> <lower for condition>]\r\n",
        "input_list = ['x','y','z']\r\n",
        "result = [ item*num for num in range(1,5) for item in input_list  ]\r\n",
        "print(\"['x','y','z'] => \" +   str(result))"
      ],
      "execution_count": 2,
      "outputs": [
        {
          "output_type": "stream",
          "text": [
            "['x','y','z'] => ['x', 'y', 'z', 'xx', 'yy', 'zz', 'xxx', 'yyy', 'zzz', 'xxxx', 'yyyy', 'zzzz']\n"
          ],
          "name": "stdout"
        }
      ]
    },
    {
      "cell_type": "code",
      "metadata": {
        "colab": {
          "base_uri": "https://localhost:8080/"
        },
        "id": "RfFNCUqzn--F",
        "outputId": "8ea83cfb-a12d-425b-ba93-87208dd62815"
      },
      "source": [
        "input_list = [2,3,4]\r\n",
        "result = [ [item+num] for item in input_list for num in range(0,3)]\r\n",
        "print(\"[2,3,4] =>\" +  str(result))"
      ],
      "execution_count": 4,
      "outputs": [
        {
          "output_type": "stream",
          "text": [
            "[2,3,4] =>[[2], [3], [4], [3], [4], [5], [4], [5], [6]]\n"
          ],
          "name": "stdout"
        }
      ]
    },
    {
      "cell_type": "code",
      "metadata": {
        "colab": {
          "base_uri": "https://localhost:8080/"
        },
        "id": "l7Ah-8w-n_A9",
        "outputId": "6fe6eb22-ed75-4982-a3d2-a9d6e5231595"
      },
      "source": [
        "input_list = [4,5,6,7]\r\n",
        "result = [[item+num for item in input_list] for num in range(0,2)]\r\n",
        "print(\"[2,3,4,5] =>\" +  str(result))"
      ],
      "execution_count": 5,
      "outputs": [
        {
          "output_type": "stream",
          "text": [
            "[2,3,4,5] =>[[4, 5, 6, 7], [5, 6, 7, 8]]\n"
          ],
          "name": "stdout"
        }
      ]
    },
    {
      "cell_type": "code",
      "metadata": {
        "id": "iAuyi2Qxn_EF"
      },
      "source": [
        "input_list=[1,2,3]\r\n",
        "result = [ (b,a) for a in input_list for b in input_list]\r\n",
        "print(\"[1,2,3] =>\" +  str(result))"
      ],
      "execution_count": null,
      "outputs": []
    }
  ]
}