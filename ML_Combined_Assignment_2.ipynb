{
  "nbformat": 4,
  "nbformat_minor": 0,
  "metadata": {
    "kernelspec": {
      "display_name": "Python 3",
      "language": "python",
      "name": "python3"
    },
    "language_info": {
      "codemirror_mode": {
        "name": "ipython",
        "version": 3
      },
      "file_extension": ".py",
      "mimetype": "text/x-python",
      "name": "python",
      "nbconvert_exporter": "python",
      "pygments_lexer": "ipython3",
      "version": "3.7.6"
    },
    "colab": {
      "name": "ML_Combined_Assignment-2.ipynb",
      "provenance": []
    }
  },
  "cells": [
    {
      "cell_type": "markdown",
      "metadata": {
        "id": "vM9vpDN6xzrg"
      },
      "source": [
        "### In this assignment students have to find the frequency of words in a webpage. User can use urllib and BeautifulSoup to extract text from webpage."
      ]
    },
    {
      "cell_type": "code",
      "metadata": {
        "id": "9cntuN7yxzrh"
      },
      "source": [
        "from bs4 import BeautifulSoup\n",
        "import urllib\n",
        "import nltk\n",
        "import requests\n",
        "import re"
      ],
      "execution_count": 5,
      "outputs": []
    },
    {
      "cell_type": "code",
      "metadata": {
        "id": "ejJ38eEiyLdQ"
      },
      "source": [
        "response = urllib.request.urlopen('http://php.net/')\n",
        "html = response.read()\n",
        "raw = BeautifulSoup(html,\"html5lib\").get_text()"
      ],
      "execution_count": 6,
      "outputs": []
    },
    {
      "cell_type": "code",
      "metadata": {
        "colab": {
          "base_uri": "https://localhost:8080/"
        },
        "id": "mt-OG7Eexzri",
        "outputId": "8fa0c0d7-aff0-444d-e416-592056f2f61d"
      },
      "source": [
        "nltk.download('punkt')\n",
        "words = nltk.word_tokenize(raw)"
      ],
      "execution_count": 7,
      "outputs": [
        {
          "output_type": "stream",
          "text": [
            "[nltk_data] Downloading package punkt to /root/nltk_data...\n",
            "[nltk_data]   Package punkt is already up-to-date!\n"
          ],
          "name": "stdout"
        }
      ]
    },
    {
      "cell_type": "code",
      "metadata": {
        "colab": {
          "base_uri": "https://localhost:8080/"
        },
        "id": "3VmqUEWIxzrj",
        "outputId": "b5727674-d2d3-41c2-fa26-6d4f9a8bee80"
      },
      "source": [
        "words = [word for word in words if len(word) > 1]\n",
        "\n",
        "# Removing any numbers present in our text\n",
        "\n",
        "words = [word for word in words if not word.isnumeric()]\n",
        "\n",
        "# Lowercase all words (default_stopwords are lowercase too)\n",
        "\n",
        "words = [word.lower() for word in words]\n",
        "\n",
        "# Calculating frequency distribution\n",
        "\n",
        "fdist = nltk.FreqDist(words)\n",
        "\n",
        "# Printing the top 30 words with their frequency\n",
        "\n",
        "for word, frequency in fdist.most_common(30):\n",
        "    print(u'{}; {}'.format(word, frequency))"
      ],
      "execution_count": 8,
      "outputs": [
        {
          "output_type": "stream",
          "text": [
            "the; 221\n",
            "php; 149\n",
            "of; 85\n",
            "release; 77\n",
            "for; 70\n",
            "this; 64\n",
            "is; 54\n",
            "to; 53\n",
            "in; 52\n",
            "and; 47\n",
            "be; 46\n",
            "can; 45\n",
            "found; 45\n",
            "downloads; 44\n",
            "source; 43\n",
            "please; 40\n",
            "version; 38\n",
            "on; 38\n",
            "page; 33\n",
            "list; 26\n",
            "changes; 26\n",
            "team; 25\n",
            "visit; 25\n",
            "8.0.0; 24\n",
            "development; 20\n",
            "availability; 20\n",
            "candidate; 20\n",
            "windows; 19\n",
            "released; 18\n",
            "announces; 18\n"
          ],
          "name": "stdout"
        }
      ]
    }
  ]
}