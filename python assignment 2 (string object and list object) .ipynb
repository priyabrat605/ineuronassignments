{
  "nbformat": 4,
  "nbformat_minor": 0,
  "metadata": {
    "colab": {
      "name": "Untitled23.ipynb",
      "provenance": []
    },
    "kernelspec": {
      "name": "python3",
      "display_name": "Python 3"
    }
  },
  "cells": [
    {
      "cell_type": "code",
      "metadata": {
        "colab": {
          "base_uri": "https://localhost:8080/"
        },
        "id": "heizpXhacRWV",
        "outputId": "b6a29c1c-7291-47ae-c410-f3438ee05303"
      },
      "source": [
        "def halfDiamondStar(N):\r\n",
        "    for i in range(N):\r\n",
        "        # This inner loop will print the stars\r\n",
        "        for j in range(0, i + 1):\r\n",
        "            print(\"*\", end=\"\")\r\n",
        "            # Change line after each iteration\r\n",
        "        print()\r\n",
        "    # For second pattern\r\n",
        "    for i in range(1, N):\r\n",
        "\r\n",
        "        for j in range(i, N):\r\n",
        "            print(\"*\", end=\"\")\r\n",
        "        print()\r\n",
        "\r\n",
        "N=5;\r\n",
        "#function call\r\n",
        "halfDiamondStar(N);\r\n"
      ],
      "execution_count": 1,
      "outputs": [
        {
          "output_type": "stream",
          "text": [
            "*\n",
            "**\n",
            "***\n",
            "****\n",
            "*****\n",
            "****\n",
            "***\n",
            "**\n",
            "*\n"
          ],
          "name": "stdout"
        }
      ]
    },
    {
      "cell_type": "code",
      "metadata": {
        "id": "wXcbFA_hiMw3"
      },
      "source": [
        "def reverse(string):\r\n",
        "  string=string[::-1]\r\n",
        "  return string"
      ],
      "execution_count": 5,
      "outputs": []
    },
    {
      "cell_type": "code",
      "metadata": {
        "colab": {
          "base_uri": "https://localhost:8080/"
        },
        "id": "CeMgAYlxiTDb",
        "outputId": "7e6a6933-2bbc-4ea0-95d0-c03437801e5c"
      },
      "source": [
        "string= \"priyabrata Sahoo\"\r\n",
        "print(\" The orginal string :   \", end =\"\")\r\n",
        "print(string)\r\n",
        "\r\n",
        "print(\"The reversed string(usging extended slice syntax ) is :  \" , end=\"\")\r\n",
        "print(reverse(string))"
      ],
      "execution_count": 8,
      "outputs": [
        {
          "output_type": "stream",
          "text": [
            " The orginal string :   priyabrata Sahoo\n",
            "The reversed string(usging extended slice syntax ) is :  oohaS atarbayirp\n"
          ],
          "name": "stdout"
        }
      ]
    },
    {
      "cell_type": "code",
      "metadata": {
        "id": "p9CaIWpHitO7"
      },
      "source": [
        ""
      ],
      "execution_count": null,
      "outputs": []
    }
  ]
}