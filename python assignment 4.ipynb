{
  "nbformat": 4,
  "nbformat_minor": 0,
  "metadata": {
    "colab": {
      "name": "Untitled26.ipynb",
      "provenance": []
    },
    "kernelspec": {
      "name": "python3",
      "display_name": "Python 3"
    }
  },
  "cells": [
    {
      "cell_type": "code",
      "metadata": {
        "id": "3kaXl22uGriY"
      },
      "source": [
        "#Solution:\r\n",
        "\r\n",
        "#Parent class\r\n",
        "class Triangle:\r\n",
        "    def __init__(self):\r\n",
        "        ''' This method has been used as an self constructor for Traingle class'''\r\n",
        "        number_of_sides=['a','b','c']\r\n",
        "        self.TriangleSides=number_of_sides\r\n",
        "        \r\n",
        "    def sides_Of_Triangle(self):\r\n",
        "        ''' This method will return sides of Traingle'''\r\n",
        "        self.sides_Of_Traingle=[input(\"Enter the Side \"+i+\" :\") for i in self.TriangleSides]\r\n",
        "        \r\n",
        "#Sub class       \r\n",
        "class Traingle_Area(Triangle):\r\n",
        "    def __init__(self):\r\n",
        "        '''This method will inherit properties and attrivutes fro Parent class \"Traingle\" and it's class \"TraingleArea\"  '''\r\n",
        "        Triangle.__init__(self)\r\n",
        "        \r\n",
        "    def area_Of_Triangle(self):\r\n",
        "        '''This method will return an Area of Triangle'''\r\n",
        "        \r\n",
        "        # Iterator has been created to iterate sides of triangle from collection\r\n",
        "        triangleSides=iter(self.sides_Of_Traingle)\r\n",
        "        a=float(next(triangleSides))\r\n",
        "        b=float(next(triangleSides))\r\n",
        "        c=float(next(triangleSides))      \r\n",
        "           \r\n",
        "        # Half-perimeter (s) of Triangle         \r\n",
        "        s= (a+b+c)*0.5        \r\n",
        "        # Area of Triangle         \r\n",
        "        Area = (s*(s-a)*(s-b)*(s-c))**0.5    \r\n",
        "        print(\"The sides of triangle are a=\"+str(a)+\", b=\"+str(b)+\", c=\"+str(c))     \r\n",
        "        Area = ('The Area of the triangle is %0.2f' %Area )\r\n",
        "        #return Area\r\n",
        "        print(Area)"
      ],
      "execution_count": 2,
      "outputs": []
    },
    {
      "cell_type": "code",
      "metadata": {
        "id": "zEzKo4EEGrlP"
      },
      "source": [
        "# Create object of Sub class Traingle_Area()\r\n",
        "Area_Of_Traingle = Traingle_Area()"
      ],
      "execution_count": 3,
      "outputs": []
    },
    {
      "cell_type": "code",
      "metadata": {
        "id": "-yKxsW-nGrny",
        "colab": {
          "base_uri": "https://localhost:8080/"
        },
        "outputId": "632c2521-24e1-476c-971b-92c24bb6fa67"
      },
      "source": [
        "Area_Of_Traingle.sides_Of_Triangle()"
      ],
      "execution_count": 4,
      "outputs": [
        {
          "output_type": "stream",
          "text": [
            "Enter the Side a :12\n",
            "Enter the Side b :23\n",
            "Enter the Side c :34\n"
          ],
          "name": "stdout"
        }
      ]
    },
    {
      "cell_type": "code",
      "metadata": {
        "id": "Yst-sjN8GrrI",
        "colab": {
          "base_uri": "https://localhost:8080/"
        },
        "outputId": "08c35735-1ed0-4af6-9966-a90edab5b8b1"
      },
      "source": [
        "Area_Of_Traingle.area_Of_Triangle()"
      ],
      "execution_count": 5,
      "outputs": [
        {
          "output_type": "stream",
          "text": [
            "The sides of triangle are a=12.0, b=23.0, c=34.0\n",
            "The Area of the triangle is 66.81\n"
          ],
          "name": "stdout"
        }
      ]
    },
    {
      "cell_type": "code",
      "metadata": {
        "id": "pBtAAMwjItqr"
      },
      "source": [
        "2"
      ],
      "execution_count": null,
      "outputs": []
    },
    {
      "cell_type": "code",
      "metadata": {
        "colab": {
          "base_uri": "https://localhost:8080/"
        },
        "id": "Pv0xiOebIyAY",
        "outputId": "617365b4-a598-4979-cccc-c70d2a2466e8"
      },
      "source": [
        "#Function to Filter words based on length\r\n",
        "def filter_long_words(WordList,n):\r\n",
        "    ''' This function returns list of words are longer than Argument n . \r\n",
        "    Note : n has been considerd has an integer'''\r\n",
        "    \r\n",
        "    #List Comprehensions\r\n",
        "    Wordlist=[x.strip() for x in WordList if len(x.strip())>n]\r\n",
        "    \r\n",
        "    if(len(Wordlist)>0):\r\n",
        "        print(\"\\n Output:\")\r\n",
        "        print(\"\\n The List of longest words , which  are longer than \"+str(n)+\" is :\")\r\n",
        "        return Wordlist\r\n",
        "    else:\r\n",
        "        return \"No Words longer than specified number \"+str(n)\r\n",
        "    \r\n",
        "#Ask user's Input\r\n",
        "print(\"Input:\")\r\n",
        "string= input(\"Please enter your words: \")\r\n",
        "number= int(input(\"Please enter your number: \"))\r\n",
        "\r\n",
        "# Split the words by \",\" comma and convert into list\r\n",
        "list_Of_Words = list(string.split(\",\"))\r\n",
        "#Function Execution\r\n",
        "filter_long_words(list_Of_Words,number)"
      ],
      "execution_count": 6,
      "outputs": [
        {
          "output_type": "stream",
          "text": [
            "Input:\n",
            "Please enter your words: Taj Mahal, Bhopal , City, Ajmer\n",
            "Please enter your number: 4\n",
            "\n",
            " Output:\n",
            "\n",
            " The List of longest words , which  are longer than 4 is :\n"
          ],
          "name": "stdout"
        },
        {
          "output_type": "execute_result",
          "data": {
            "text/plain": [
              "['Taj Mahal', 'Bhopal', 'Ajmer']"
            ]
          },
          "metadata": {
            "tags": []
          },
          "execution_count": 6
        }
      ]
    },
    {
      "cell_type": "code",
      "metadata": {
        "colab": {
          "base_uri": "https://localhost:8080/"
        },
        "id": "xD_IbfDaIyDA",
        "outputId": "7f18fe32-1070-412e-f0ed-703f83a937d0"
      },
      "source": [
        "\r\n",
        "#Solution Approach_1\r\n",
        "#Function to map length of words with words \r\n",
        "def map_Words_to_Length(List):\r\n",
        "    ''' This function Map's the words with their corresponding length'''\r\n",
        "    return list(map(len, List))\r\n",
        "\r\n",
        "word_List=list(input(\"Input : Please enter Words : \").split(\",\"))\r\n",
        "#List Comprehension has been done to remove white trailing white spaces\r\n",
        "List=[x.strip() for x in word_List]\r\n",
        "#function Execution\r\n",
        "Words_lengths=map_Words_to_Length(List)\r\n",
        "\r\n",
        "print(\"Output: Length of Words are :\",Words_lengths )"
      ],
      "execution_count": 7,
      "outputs": [
        {
          "output_type": "stream",
          "text": [
            "Input : Please enter Words : ab,cde,erty\n",
            "Output: Length of Words are : [2, 3, 4]\n"
          ],
          "name": "stdout"
        }
      ]
    },
    {
      "cell_type": "code",
      "metadata": {
        "colab": {
          "base_uri": "https://localhost:8080/"
        },
        "id": "FGSKMUGNIyF4",
        "outputId": "d2be0532-ec24-43b8-adeb-558c87508396"
      },
      "source": [
        "#Solution\r\n",
        "def vowel_checker(inputChar):\r\n",
        "    #docstring\r\n",
        "    '''This function will return True/False based upon input character provided by user'''\r\n",
        "    return_value=''\r\n",
        "    if(len(inputChar)==1):\r\n",
        "        vowel_list=['a','e','i','o','u']\r\n",
        "        if (inputChar.lower() in vowel_list):\r\n",
        "            return_value= True\r\n",
        "        else:\r\n",
        "            return_value= False\r\n",
        "    else:\r\n",
        "        return_value=\"Please enter single character only!\"        \r\n",
        "    return return_value\r\n",
        "\r\n",
        "#Ask user's Input\r\n",
        "print(\"Enter character to check that it is Vowel or not\")\r\n",
        "input_value = input(\"Input Value: \")\r\n",
        "#Function Execution\r\n",
        "output_value=vowel_checker(input_value) \r\n",
        "#Output\r\n",
        "print(\"Output Value:\",output_value)"
      ],
      "execution_count": 10,
      "outputs": [
        {
          "output_type": "stream",
          "text": [
            "Enter character to check that it is Vowel or not\n",
            "Input Value: u\n",
            "Output Value: True\n"
          ],
          "name": "stdout"
        }
      ]
    },
    {
      "cell_type": "code",
      "metadata": {
        "colab": {
          "base_uri": "https://localhost:8080/"
        },
        "id": "qM4hSKFmIyIw",
        "outputId": "b5f7242c-69fd-4ad9-9c5f-59546d844cf1"
      },
      "source": [
        "print(\"Enter character to check that it is Vowel or not\")\r\n",
        "input_value = input(\"Input Value: \")\r\n",
        "\r\n",
        "#Function Execution\r\n",
        "output_value=vowel_checker(input_value) \r\n",
        "\r\n",
        "#Output\r\n",
        "print(\"Output Value:\",output_value)"
      ],
      "execution_count": 11,
      "outputs": [
        {
          "output_type": "stream",
          "text": [
            "Enter character to check that it is Vowel or not\n",
            "Input Value: z\n",
            "Output Value: False\n"
          ],
          "name": "stdout"
        }
      ]
    }
  ]
}