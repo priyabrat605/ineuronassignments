{
  "nbformat": 4,
  "nbformat_minor": 0,
  "metadata": {
    "colab": {
      "name": "Untitled25.ipynb",
      "provenance": []
    },
    "kernelspec": {
      "name": "python3",
      "display_name": "Python 3"
    }
  },
  "cells": [
    {
      "cell_type": "code",
      "metadata": {
        "id": "iyhIzDKvsFd2"
      },
      "source": [
        "Calculate the mean, median, mode and standard deviation for the problem statements 1& 2.\r\n",
        "Problem Statement 1:\r\n",
        "The marks awarded for an assignment set for a Year 8 class of 20 students were as follows:\r\n",
        "6 7 5 7 7 8 7 6 9 7 4 10 6 8 8 9 5 6 4 8"
      ],
      "execution_count": null,
      "outputs": []
    },
    {
      "cell_type": "code",
      "metadata": {
        "id": "HhYeFWIpsHPa"
      },
      "source": [
        "import numpy as np\r\n",
        "import statistics\r\n",
        "marks = np.asarray([6,7,5,7,7,8,7,6,9,7,4,10,6,8,8,9,5,6,4,8])"
      ],
      "execution_count": 2,
      "outputs": []
    },
    {
      "cell_type": "code",
      "metadata": {
        "colab": {
          "base_uri": "https://localhost:8080/"
        },
        "id": "HCTIcZthsWDz",
        "outputId": "53cb6610-ed01-4015-f80b-fb2161d06086"
      },
      "source": [
        "marks"
      ],
      "execution_count": null,
      "outputs": [
        {
          "output_type": "execute_result",
          "data": {
            "text/plain": [
              "array([ 6,  7,  5,  7,  7,  8,  7,  6,  9,  7,  4, 10,  6,  8,  8,  9,  5,\n",
              "        6,  4,  8])"
            ]
          },
          "metadata": {
            "tags": []
          },
          "execution_count": 3
        }
      ]
    },
    {
      "cell_type": "code",
      "metadata": {
        "colab": {
          "base_uri": "https://localhost:8080/"
        },
        "id": "cVVO46KksXRX",
        "outputId": "02c465f8-0f62-4f5e-8847-e6475348a346"
      },
      "source": [
        "def calculation(marks):\r\n",
        "  print(f\"The mean of the marks is {np.mean(marks)}\")\r\n",
        "  print(f\"The median of the marks is {np.median(marks)}\")\r\n",
        "  print(f\"The mode of the marks is {statistics.mode(marks)}\")\r\n",
        "  print(f\"The standard deviation of the marks is {np.std(marks)}\")\r\n",
        "calculation(marks)"
      ],
      "execution_count": null,
      "outputs": [
        {
          "output_type": "stream",
          "text": [
            "The mean of the marks is 6.85\n",
            "The median of the marks is 7.0\n",
            "The mode of the marks is 7\n",
            "The standard deviation of the marks is 1.5898113095584647\n"
          ],
          "name": "stdout"
        }
      ]
    },
    {
      "cell_type": "code",
      "metadata": {
        "id": "B33hMWpKtB39"
      },
      "source": [
        "Problem Statement 2:\r\n",
        "The number of calls from motorists per day for roadside service was recorded for a particular month:\r\n",
        "28, 122, 217, 130, 120, 86, 80, 90, 140, 120, 70, 40, 145, 113, 90, 68, 174, 194, 170,\r\n",
        "100, 75, 104, 97, 75,123, 100, 75, 104, 97, 75, 123, 100, 89, 120, 109"
      ],
      "execution_count": null,
      "outputs": []
    },
    {
      "cell_type": "code",
      "metadata": {
        "id": "3Q1jQtOLuJHl"
      },
      "source": [
        "call_records =np.asarray([28, 122, 217, 130, 120, 86, 80, 90, 140, 120, 70, 40, 145, 113, 90, 68, 174, 194, 170,100, 75, 104, 97, 75,123, 100, 75, 104, 97, 75, 123, 100, 89, 120, 109])"
      ],
      "execution_count": null,
      "outputs": []
    },
    {
      "cell_type": "code",
      "metadata": {
        "colab": {
          "base_uri": "https://localhost:8080/"
        },
        "id": "6yFjC1VuuJKc",
        "outputId": "1fafddff-14ed-4513-bd9a-22966c5f826e"
      },
      "source": [
        "calculation(call_records)"
      ],
      "execution_count": null,
      "outputs": [
        {
          "output_type": "stream",
          "text": [
            "The mean of the marks is 107.51428571428572\n",
            "The median of the marks is 100.0\n",
            "The mode of the marks is 75\n",
            "The standard deviation of the marks is 38.77287080168403\n"
          ],
          "name": "stdout"
        }
      ]
    },
    {
      "cell_type": "code",
      "metadata": {
        "id": "DK6HYL33uJNE"
      },
      "source": [
        "Problem Statement 3:\r\n",
        "The number of times I go to the gym in weekdays, are given below along with its associated probability:\r\n",
        "x = 0, 1, 2, 3, 4, 5\r\n",
        "f(x) = 0.09, 0.15, 0.40, 0.25, 0.10, 0.01¶\r\n",
        "Calculate the mean no. of workouts in a week. Also evaluate the variance involved in it"
      ],
      "execution_count": null,
      "outputs": []
    },
    {
      "cell_type": "code",
      "metadata": {
        "id": "rP0q023ouJPo"
      },
      "source": [
        "x = np.asarray([0,1,2,3,4,5])\r\n",
        "f_x = np.array([0.09,0.15,0.40,0.25,0.10,0.01])"
      ],
      "execution_count": 3,
      "outputs": []
    },
    {
      "cell_type": "code",
      "metadata": {
        "id": "cDAaxLfyuJSQ",
        "colab": {
          "base_uri": "https://localhost:8080/"
        },
        "outputId": "81cca10d-23f5-4c9e-92e0-696258298c62"
      },
      "source": [
        "x.reshape((1,-1))\r\n",
        "f_x.reshape((-1,1))\r\n",
        "mean=np.dot(x,f_x)\r\n",
        "variance_of_x=(x-mean)**2\r\n",
        "variance = np.dot(variance_of_x.reshape(1,-1),f_x)\r\n",
        "print(f\"Mean no. of workouts: {mean}\")\r\n",
        "print(f\"Variance of workouts: {variance}\")"
      ],
      "execution_count": 4,
      "outputs": [
        {
          "output_type": "stream",
          "text": [
            "Mean no. of workouts: 2.15\n",
            "Variance of workouts: [1.2275]\n"
          ],
          "name": "stdout"
        }
      ]
    },
    {
      "cell_type": "code",
      "metadata": {
        "id": "hfO4hNeWP2mq"
      },
      "source": [
        "Problem Statement 4:\r\n",
        "Let the continuous random variable D denote the diameter of the hole drilled in an aluminum sheet. The target \r\n",
        "diameter to be achieved is 12.5mm. Random disturbances in the process often result in inaccuracy.\r\n",
        "Historical data shows that the distribution of D can be modelled by the PDF (𝑑) = 20𝑒−20(𝑑−12.5), 𝑑 ≥ 12.5. If a part with diameter > 12.6 mm needs to be scrapped, what is the proportion of those parts? What is the CDF when the diameter is of 11mm? What is your conclusion regarding the proportion of scraps?"
      ],
      "execution_count": null,
      "outputs": []
    },
    {
      "cell_type": "code",
      "metadata": {
        "id": "LejaVVvCP2pg"
      },
      "source": [
        "from scipy import integrate"
      ],
      "execution_count": 5,
      "outputs": []
    },
    {
      "cell_type": "code",
      "metadata": {
        "colab": {
          "base_uri": "https://localhost:8080/"
        },
        "id": "3J7jueZiP2sQ",
        "outputId": "e9d5824a-6b44-4f5b-e4ea-b9d934620686"
      },
      "source": [
        "#PDF (𝑑) = 20𝑒−20(𝑑−12.5)\r\n",
        "#𝑑 ≥ 12.5\r\n",
        "PDF=lambda d:20*(np.exp((-20*(d-12.5))))\r\n",
        "x = 12.6\r\n",
        "P_x=integrate.quad(PDF,12.6,np.inf)\r\n",
        "y = 11\r\n",
        "CDF=integrate.quad(PDF,-np.inf,y)\r\n",
        "print(f\"Proportion of Parts need to scrapped when d >12.6mm is :{P_x[0]}\")\r\n",
        "print(f\"CDF when d= 11mm is:{CDF[0]}\")\r\n",
        "print(f\"Proportion of CDF when d>12.5mm is : {integrate.quad(PDF,12.5,np.inf)[0]}\")\r\n",
        "\r\n",
        "#Conclusion\r\n",
        "#it can be concluded that the function is only valid when d>=12.5. \r\n",
        "#When d<12.5, the part can be reworked to 12.5 so no scrap in this case.\r\n",
        "#PDF is not defined for d=11"
      ],
      "execution_count": 6,
      "outputs": [
        {
          "output_type": "stream",
          "text": [
            "Proportion of Parts need to scrapped when d >12.6mm is :0.13533528323661398\n",
            "CDF when d= 11mm is:inf\n",
            "Proportion of CDF when d>12.5mm is : 1.0000000000000024\n"
          ],
          "name": "stdout"
        },
        {
          "output_type": "stream",
          "text": [
            "/usr/local/lib/python3.7/dist-packages/ipykernel_launcher.py:3: RuntimeWarning: overflow encountered in exp\n",
            "  This is separate from the ipykernel package so we can avoid doing imports until\n"
          ],
          "name": "stderr"
        }
      ]
    },
    {
      "cell_type": "code",
      "metadata": {
        "id": "VQMz_Aw-P2uy"
      },
      "source": [
        "Problem Statement 5:\r\n",
        "A company manufactures LED bulbs with a faulty rate of 30%. If I randomly select 6 chosen LEDs, \r\n",
        "what is the probability of having 2 faulty LEDs in my sample? Calculate the average value of this process. Also evaluate the standard deviation associated with it"
      ],
      "execution_count": null,
      "outputs": []
    },
    {
      "cell_type": "code",
      "metadata": {
        "id": "Wsx4-7GERpBE"
      },
      "source": [
        "\r\n",
        "import matplotlib.pyplot as plt\r\n",
        "import seaborn as sns\r\n",
        "%matplotlib inline\r\n",
        "import pandas as pd\r\n",
        "import scipy.special"
      ],
      "execution_count": 7,
      "outputs": []
    },
    {
      "cell_type": "code",
      "metadata": {
        "colab": {
          "base_uri": "https://localhost:8080/",
          "height": 451
        },
        "id": "pHGYeQLVRpDw",
        "outputId": "0c568fc3-a642-4e24-d230-45170789cf50"
      },
      "source": [
        "x = 0.3\r\n",
        "y = 0.7\r\n",
        "df=pd.DataFrame({'a':[int(i) for i in range(7)],\r\n",
        "                 'B_a':[scipy.special.comb(6,i)*(x**i)*(y**(6-i)) for i in range(7)]})\r\n",
        "print(df.iloc[2])\r\n",
        "plt.figure(figsize=(15,5))\r\n",
        "sns.barplot('a','B_a',data=df)\r\n",
        "plt.xlabel('Number of Faulty Leds')\r\n",
        "plt.ylabel('Probability of Fault')"
      ],
      "execution_count": 8,
      "outputs": [
        {
          "output_type": "stream",
          "text": [
            "a      2.000000\n",
            "B_a    0.324135\n",
            "Name: 2, dtype: float64\n"
          ],
          "name": "stdout"
        },
        {
          "output_type": "stream",
          "text": [
            "/usr/local/lib/python3.7/dist-packages/seaborn/_decorators.py:43: FutureWarning: Pass the following variables as keyword args: x, y. From version 0.12, the only valid positional argument will be `data`, and passing other arguments without an explicit keyword will result in an error or misinterpretation.\n",
            "  FutureWarning\n"
          ],
          "name": "stderr"
        },
        {
          "output_type": "execute_result",
          "data": {
            "text/plain": [
              "Text(0, 0.5, 'Probability of Fault')"
            ]
          },
          "metadata": {
            "tags": []
          },
          "execution_count": 8
        },
        {
          "output_type": "display_data",
          "data": {
            "image/png": "[encoded data removed]",
            "text/plain": [
              "<Figure size 1080x360 with 1 Axes>"
            ]
          },
          "metadata": {
            "tags": [],
            "needs_background": "light"
          }
        }
      ]
    },
    {
      "cell_type": "code",
      "metadata": {
        "colab": {
          "base_uri": "https://localhost:8080/"
        },
        "id": "JkeFRTJgRpGa",
        "outputId": "bb49de79-5ef4-4f73-d030-dbdbc8dd7867"
      },
      "source": [
        "df['Expected value']=df['a']*df['B_a']\r\n",
        "mean=np.round(df['Expected value'].sum())\r\n",
        "print('mean = {}'.format(mean))\r\n",
        "df['variance']=df['B_a']*(df['a']-mean)**2\r\n",
        "std=np.sqrt(df['variance'].sum())\r\n",
        "print(f\"Standard Deviation : {np.round(std)}\")"
      ],
      "execution_count": 9,
      "outputs": [
        {
          "output_type": "stream",
          "text": [
            "mean = 2.0\n",
            "Standard Deviation : 1.0\n"
          ],
          "name": "stdout"
        }
      ]
    },
    {
      "cell_type": "code",
      "metadata": {
        "id": "AfQZEZfeSNGR"
      },
      "source": [
        "Problem Statement 6:\r\n",
        "Gaurav and Barakha are both preparing for entrance exams. Gaurav attempts to solve 8 questions per day with a correction rate of 75%, while Barakha averages around 12 questions per day with a correction rate of 45%. What is the probability that each of them will solve 5 questions correctly? What happens in cases of 4 and 6 correct solutions? \r\n",
        "What do you infer from it? What are the two main governing factors affecting their ability to solve questions correctly? Give a pictorial representation of the same to validate your answer."
      ],
      "execution_count": null,
      "outputs": []
    },
    {
      "cell_type": "code",
      "metadata": {
        "colab": {
          "base_uri": "https://localhost:8080/"
        },
        "id": "Ed-ra2D_SNJP",
        "outputId": "cb2db2c8-d1e2-4335-bc26-8dec2321412f"
      },
      "source": [
        "from scipy.stats import binom\r\n",
        "import numpy as np\r\n",
        "\r\n",
        "print(f\"Probability of each of them solving 5 questions correctly is:{binom.pmf(5,8,0.75)*binom.pmf(5,12,0.45)}\")\r\n",
        "print(f\"Probability of each of them solving 4,6 questions correctly is:{binom.pmf(4,8,0.75)*binom.pmf(6,12,0.45)}\")\r\n",
        "#their correction rates effect their combined probability"
      ],
      "execution_count": 10,
      "outputs": [
        {
          "output_type": "stream",
          "text": [
            "Probability of each of them solving 5 questions correctly is:0.04619989057299217\n",
            "Probability of each of them solving 4,6 questions correctly is:0.018374956477894583\n"
          ],
          "name": "stdout"
        }
      ]
    },
    {
      "cell_type": "code",
      "metadata": {
        "id": "GfGRXT4CSNMB"
      },
      "source": [
        "#following graphs show their correction rates invidually and combined\r\n",
        "def binom_plot(n,p,):\r\n",
        "    fig,ax=plt.subplots(1,1)\r\n",
        "    x = np.arange(binom.ppf(0.01, n, p),binom.ppf(0.99, n, p))\r\n",
        "    ax.plot(x, binom.pmf(x, n, p), 'bo', ms=8, label='binom pmf')\r\n",
        "    ax.vlines(x, 0, binom.pmf(x, n, p), colors='b', lw=5, alpha=0.5)"
      ],
      "execution_count": 11,
      "outputs": []
    },
    {
      "cell_type": "code",
      "metadata": {
        "colab": {
          "base_uri": "https://localhost:8080/",
          "height": 265
        },
        "id": "bACrmuXVSNPA",
        "outputId": "c5739f68-7c93-4b1d-8814-004032fedfa8"
      },
      "source": [
        "#Gaurav\r\n",
        "binom_plot(8,0.75)"
      ],
      "execution_count": 12,
      "outputs": [
        {
          "output_type": "display_data",
          "data": {
            "image/png": "[encoded data removed]",
            "text/plain": [
              "<Figure size 432x288 with 1 Axes>"
            ]
          },
          "metadata": {
            "tags": [],
            "needs_background": "light"
          }
        }
      ]
    },
    {
      "cell_type": "code",
      "metadata": {
        "colab": {
          "base_uri": "https://localhost:8080/",
          "height": 265
        },
        "id": "v-sjTaDHRpJ_",
        "outputId": "3d34e588-627f-45f9-80a3-3962b7a7ebe1"
      },
      "source": [
        "#Barakha\r\n",
        "binom_plot(12,0.45)"
      ],
      "execution_count": 13,
      "outputs": [
        {
          "output_type": "display_data",
          "data": {
            "image/png": "[encoded data removed]",
            "text/plain": [
              "<Figure size 432x288 with 1 Axes>"
            ]
          },
          "metadata": {
            "tags": [],
            "needs_background": "light"
          }
        }
      ]
    },
    {
      "cell_type": "code",
      "metadata": {
        "colab": {
          "base_uri": "https://localhost:8080/"
        },
        "id": "q7xxzgheU1sv",
        "outputId": "8c88a4ce-bd25-46a0-dabf-2e8ddb5d7148"
      },
      "source": [
        "from scipy.stats import binom\r\n",
        "binom.pmf(5,8,0.75)*binom.pmf(5,12,0.45)"
      ],
      "execution_count": 14,
      "outputs": [
        {
          "output_type": "execute_result",
          "data": {
            "text/plain": [
              "0.04619989057299217"
            ]
          },
          "metadata": {
            "tags": []
          },
          "execution_count": 14
        }
      ]
    },
    {
      "cell_type": "code",
      "metadata": {
        "id": "IDuWaY9tU1v0"
      },
      "source": [
        "Problem Statement 7\r\n",
        "Customers arrive at a rate of 72 per hour to my shop. What is the probability of 𝑘 customers arriving in 4 minutes?\r\n",
        " a) 5 customers, b) not more than 3 customers, c) more than 3 customers. Give a pictorial representation of the same to validate your answer."
      ],
      "execution_count": null,
      "outputs": []
    },
    {
      "cell_type": "code",
      "metadata": {
        "colab": {
          "base_uri": "https://localhost:8080/"
        },
        "id": "qn7AlwULU1yi",
        "outputId": "e604f40d-1725-490b-e2a4-ac3837e23533"
      },
      "source": [
        "from scipy.stats import poisson\r\n",
        "#We need to calculate average number of customers arriving per 4 minutes\r\n",
        "#72/60 customers come per minute\r\n",
        "mu = 4*(72/60) #customers come per 4 minutes\r\n",
        "print(f\"The probability of arriving 5 cutomers in 4 minutes is : {poisson.pmf(k=5,mu=mu)}\")\r\n",
        "print(f\"The probability of arriving not more than 3 customers in 4 minutes is : {poisson.pmf(k=3, mu=mu)}\")\r\n",
        "print(f'The Probability of more than 3 customers arriving in 4 minutes is : {1-poisson.cdf(k=3,mu=mu)}')"
      ],
      "execution_count": 15,
      "outputs": [
        {
          "output_type": "stream",
          "text": [
            "The probability of arriving 5 cutomers in 4 minutes is : 0.17474768364388296\n",
            "The probability of arriving not more than 3 customers in 4 minutes is : 0.15169069760753714\n",
            "The Probability of more than 3 customers arriving in 4 minutes is : 0.7057700835034357\n"
          ],
          "name": "stdout"
        }
      ]
    },
    {
      "cell_type": "code",
      "metadata": {
        "colab": {
          "base_uri": "https://localhost:8080/",
          "height": 350
        },
        "id": "66LPLf3jU11C",
        "outputId": "ab21cd50-c5ed-40f9-cea3-e9c635b5fffe"
      },
      "source": [
        "x = list(range(0,10))\r\n",
        "fig,ax = plt.subplots(1,1,figsize=(15,5))\r\n",
        "ax.plot(x, poisson.pmf(x,mu), 'bo', ms=8, label='poisson pmf')\r\n",
        "ax.vlines(x, 0, poisson.pmf(x, mu), colors='b', lw=5, alpha=0.5)\r\n",
        "plt.xlabel('Number of customers')\r\n",
        "plt.ylabel('Probability')"
      ],
      "execution_count": 16,
      "outputs": [
        {
          "output_type": "execute_result",
          "data": {
            "text/plain": [
              "Text(0, 0.5, 'Probability')"
            ]
          },
          "metadata": {
            "tags": []
          },
          "execution_count": 16
        },
        {
          "output_type": "display_data",
          "data": {
            "image/png": "[encoded data removed]",
            "text/plain": [
              "<Figure size 1080x360 with 1 Axes>"
            ]
          },
          "metadata": {
            "tags": [],
            "needs_background": "light"
          }
        }
      ]
    },
    {
      "cell_type": "code",
      "metadata": {
        "id": "Tc11M50mWJvK"
      },
      "source": [
        "Problem Statement 8:\r\n",
        "I work as a data analyst in Aeon Learning Pvt. Ltd. After analyzing data, I make reports, where I have the efficiency of entering 77 words per minute with 6 errors per hour. What is the probability that I will commit 2 errors in a 455-word financial report? What happens when the no. of words increases/decreases (in case of 1000 words, 255 words)?\r\n",
        "How is the 𝜆 affected?\r\n",
        "How does it influence the PMF?\r\n",
        "Give a pictorial representation of the same to validate your answer."
      ],
      "execution_count": null,
      "outputs": []
    },
    {
      "cell_type": "code",
      "metadata": {
        "colab": {
          "base_uri": "https://localhost:8080/",
          "height": 385
        },
        "id": "knhYncy8WJ3m",
        "outputId": "107f0f1d-228c-4497-aa03-d6b7638a0b41"
      },
      "source": [
        "from scipy.stats import poisson\r\n",
        "#Rate of entering=77 per minute\r\n",
        "#error rate= 6/hour=0.1 per minute\r\n",
        "#No of errors per word=0.1/77\r\n",
        "unit_mu=0.1/77\r\n",
        "def mu(n):\r\n",
        "    return n * unit_mu\r\n",
        "print(f\"The pobability of commiting 2 errors in 455 words financial report is :{poisson.pmf(2,mu=mu(455))}\")\r\n",
        "print(f\"The pobability of commiting 2 errors in 1000 words financial report is :{poisson.pmf(2,mu=mu(1000))}\")\r\n",
        "print(f\"The pobability of commiting 2 errors in 255 words financial report is :{poisson.pmf(2,mu=mu(255))}\")\r\n",
        "x=range(100,1000,50)\r\n",
        "mu=[i*unit_mu for i in x]\r\n",
        "fig,ax = plt.subplots(1,1,figsize=(15,5))\r\n",
        "ax.plot(x,poisson.pmf(2,mu), 'bo', ms=8, label='poisson pmf')\r\n",
        "ax.vlines(x,0, poisson.pmf(2,mu), colors='b', lw=5, alpha=0.5)\r\n",
        "#As the number of words increase probability of getting errors increases"
      ],
      "execution_count": 17,
      "outputs": [
        {
          "output_type": "stream",
          "text": [
            "The pobability of commiting 2 errors in 455 words financial report is :0.09669027375144444\n",
            "The pobability of commiting 2 errors in 1000 words financial report is :0.23012815007300153\n",
            "The pobability of commiting 2 errors in 255 words financial report is :0.039377135392854104\n"
          ],
          "name": "stdout"
        },
        {
          "output_type": "execute_result",
          "data": {
            "text/plain": [
              "<matplotlib.collections.LineCollection at 0x7f95a189f0d0>"
            ]
          },
          "metadata": {
            "tags": []
          },
          "execution_count": 17
        },
        {
          "output_type": "display_data",
          "data": {
            "image/png": "[encoded data removed]",
            "text/plain": [
              "<Figure size 1080x360 with 1 Axes>"
            ]
          },
          "metadata": {
            "tags": [],
            "needs_background": "light"
          }
        }
      ]
    },
    {
      "cell_type": "code",
      "metadata": {
        "id": "laxYYgeBWJ6e"
      },
      "source": [
        "Problem Statement 9:\r\n",
        "\r\n",
        "Let the continuous random variable D denote the diameter of the hole drilled in an\r\n",
        "aluminum sheet. The target diameter to be achieved is 12.5mm. Random\r\n",
        "disturbances in the process often result in inaccuracy.\r\n",
        "Historical data shows that the distribution of D can be modelled by the PDF, f(d) =\r\n",
        "20e−20(d−12.5), d ≥ 12.5. If a part with diameter > 12.6 mm needs to be scrapped,\r\n",
        "what is the proportion of those parts? What is the CDF when the diameter is of 11\r\n",
        "mm?\r\n",
        "What is the conclusion of this experiment?\r\n",
        "\r\n"
      ],
      "execution_count": null,
      "outputs": []
    },
    {
      "cell_type": "code",
      "metadata": {
        "colab": {
          "base_uri": "https://localhost:8080/"
        },
        "id": "5ACr4HEkWJ92",
        "outputId": "3166590a-792d-4ef7-de54-732e7cfd1faa"
      },
      "source": [
        "#PDF (𝑑) = 20𝑒−20(𝑑−12.5)\r\n",
        "#𝑑 ≥ 12.5\r\n",
        "PDF=lambda d:20*(np.exp((-20*(d-12.5))))\r\n",
        "x = 12.6\r\n",
        "P_x=integrate.quad(PDF,12.6,np.inf)\r\n",
        "y = 11\r\n",
        "CDF=integrate.quad(PDF,-np.inf,y)\r\n",
        "print(f\"Proportion of Parts need to scrapped when d >12.6mm is :{P_x[0]}\")\r\n",
        "print(f\"CDF when d= 11mm is:{CDF[0]}\")\r\n",
        "print(f\"Proportion of CDF when d>12.5mm is : {integrate.quad(PDF,12.5,np.inf)[0]}\")\r\n",
        "\r\n",
        "#Conclusion\r\n",
        "#it can be concluded that the function is only valid when d>=12.5. \r\n",
        "#When d<12.5, the part can be reworked to 12.5 so no scrap in this case.\r\n",
        "#PDF is not defined for d=11"
      ],
      "execution_count": 18,
      "outputs": [
        {
          "output_type": "stream",
          "text": [
            "Proportion of Parts need to scrapped when d >12.6mm is :0.13533528323661398\n",
            "CDF when d= 11mm is:inf\n",
            "Proportion of CDF when d>12.5mm is : 1.0000000000000024\n"
          ],
          "name": "stdout"
        },
        {
          "output_type": "stream",
          "text": [
            "/usr/local/lib/python3.7/dist-packages/ipykernel_launcher.py:3: RuntimeWarning: overflow encountered in exp\n",
            "  This is separate from the ipykernel package so we can avoid doing imports until\n"
          ],
          "name": "stderr"
        }
      ]
    },
    {
      "cell_type": "code",
      "metadata": {
        "id": "NYhusghdU137"
      },
      "source": [
        "Problem Statement 10:\r\n",
        "\r\n",
        "Please compute the following:\r\n",
        "a) P(Z > 1.26), . P(Z < −0.86), P(Z > −1.37), P(−1.25 < Z < 0.37), . P(Z ≤ −4.6)\r\n",
        "b) Find the value z such that P(Z > z) = 0.05\r\n",
        "c) Find the value of z such that P(−z < Z < z) = 0.99"
      ],
      "execution_count": null,
      "outputs": []
    },
    {
      "cell_type": "code",
      "metadata": {
        "colab": {
          "base_uri": "https://localhost:8080/"
        },
        "id": "H7qib4OxfrYM",
        "outputId": "ac114546-6fd0-4c22-b335-fdcac59464dd"
      },
      "source": [
        "from scipy.stats import norm\r\n",
        "def P(z,b=-np.inf) :\r\n",
        "    return integrate.quad(norm.pdf,b,z)[0]\r\n",
        "\r\n",
        "print('P(Z>1.26) = %.5f'%(1-P(1.26)))\r\n",
        "print('P(Z<-0.86) = %.5f'%P(-0.86))\r\n",
        "print('P(Z>-1.37) = %.5f'%(1-P(-1.37)))\r\n",
        "print('P(−1.25 < Z < 0.37) = %.5f'%P(0.37,b=-1.25))\r\n",
        "print('P(Z ≤ −4.6) = %.5f'%P(-4.6))"
      ],
      "execution_count": 19,
      "outputs": [
        {
          "output_type": "stream",
          "text": [
            "P(Z>1.26) = 0.10383\n",
            "P(Z<-0.86) = 0.19489\n",
            "P(Z>-1.37) = 0.91466\n",
            "P(−1.25 < Z < 0.37) = 0.53866\n",
            "P(Z ≤ −4.6) = 0.00000\n"
          ],
          "name": "stdout"
        }
      ]
    },
    {
      "cell_type": "code",
      "metadata": {
        "colab": {
          "base_uri": "https://localhost:8080/"
        },
        "id": "fPQyyoNKfrbA",
        "outputId": "66fef619-0505-4c22-b866-ee1e6a42f4a1"
      },
      "source": [
        "\r\n",
        "print('P(Z>z)=0.05 is %.2f'%(-1*norm.ppf(0.05)))\r\n",
        "print('𝑃(−𝑧 < 𝑍 < 𝑧) = 0.99 is %.2f'%(abs(norm.ppf(0.005))))"
      ],
      "execution_count": 20,
      "outputs": [
        {
          "output_type": "stream",
          "text": [
            "P(Z>z)=0.05 is 1.64\n",
            "𝑃(−𝑧 < 𝑍 < 𝑧) = 0.99 is 2.58\n"
          ],
          "name": "stdout"
        }
      ]
    },
    {
      "cell_type": "code",
      "metadata": {
        "id": "w4HEzKKefrd1"
      },
      "source": [
        "Problem Statement 11:\r\n",
        "\r\n",
        "The current flow in a copper wire follow a normal distribution with a mean of 10 𝑚A and a variance of 4 (𝑚𝐴)2.\r\n",
        "What is the probability that a current measurement will exceed 13 𝑚𝐴? What is the probability that a current measurement is between 9 and 11mA? Determine the current measurement which has a probability of 0.98."
      ],
      "execution_count": null,
      "outputs": []
    },
    {
      "cell_type": "code",
      "metadata": {
        "colab": {
          "base_uri": "https://localhost:8080/"
        },
        "id": "xnTbKuL8frgS",
        "outputId": "61a7a2b8-e995-4c1e-943a-9cd5b8745b72"
      },
      "source": [
        "mean = 10\r\n",
        "std = np.sqrt(4)\r\n",
        "\r\n",
        "def I(z, b=-np.inf):\r\n",
        "    z = (z-mean)/std\r\n",
        "    return integrate.quad(norm.pdf,b,z)[0]\r\n",
        "print(f\"Probability that current > 13mA is: {1-I(13)}\")\r\n",
        "print(f\"Probability that current is between 9 mA and 11 mA is : {1-I(11,b=9)}\")"
      ],
      "execution_count": 21,
      "outputs": [
        {
          "output_type": "stream",
          "text": [
            "Probability that current > 13mA is: 0.06680720126885797\n",
            "Probability that current is between 9 mA and 11 mA is : 1.3085375387259144\n"
          ],
          "name": "stdout"
        }
      ]
    },
    {
      "cell_type": "code",
      "metadata": {
        "id": "ZIdMV92ZfrjX"
      },
      "source": [
        "Problem Statement 12:\r\n",
        "The shaft in a piston has its diameter normally distributed with a mean of 0.2508 inch and a standard deviation of 0.0005 inch. The specifications of the shaft are 0.2500 ∓0.0015 inch. What proportion of shafts are in sync with the specifications?\r\n",
        " If the process is centered so that the mean is equal to the target value of 0.2500, what proportion of shafts conform to the new specifications? What is your conclusion from this experiment?"
      ],
      "execution_count": null,
      "outputs": []
    },
    {
      "cell_type": "code",
      "metadata": {
        "colab": {
          "base_uri": "https://localhost:8080/"
        },
        "id": "2fTh1qjUfrlz",
        "outputId": "6ac0d376-e50f-45cc-d467-0dcb3029eef6"
      },
      "source": [
        "mean_dia=0.2508\r\n",
        "std_dia=0.0005\r\n",
        "#specified dia in the range of 0.2485<d<0.2515\r\n",
        "#case-1 if mean_dia=0.2508\r\n",
        "def I(mean,std,a,b) :\r\n",
        "  #gives P(Z<=x)\r\n",
        "  a=(a-mean)/std\r\n",
        "  b=(b-mean)/std\r\n",
        "print(f\"Proportion of shafts with dia in range of 0.2485<d<0.2515 when mean diameter:{0.2508,I(0.2508,0.0005,0.2485,0.2515)}\")\r\n",
        "print(f\"Proportion of shafts with dia in range of 0.2485<d<0.2515 when mean diameter:{0.2500,I(0.2500,0.0005,0.2485,0.2515)}\")"
      ],
      "execution_count": 22,
      "outputs": [
        {
          "output_type": "stream",
          "text": [
            "Proportion of shafts with dia in range of 0.2485<d<0.2515 when mean diameter:(0.2508, None)\n",
            "Proportion of shafts with dia in range of 0.2485<d<0.2515 when mean diameter:(0.25, None)\n"
          ],
          "name": "stdout"
        }
      ]
    },
    {
      "cell_type": "code",
      "metadata": {
        "id": "wzvoA3GcgU_v"
      },
      "source": [
        ""
      ],
      "execution_count": null,
      "outputs": []
    },
    {
      "cell_type": "code",
      "metadata": {
        "id": "J2UYtbkFgVCa"
      },
      "source": [
        ""
      ],
      "execution_count": null,
      "outputs": []
    },
    {
      "cell_type": "code",
      "metadata": {
        "id": "rynhYgW9gVFl"
      },
      "source": [
        ""
      ],
      "execution_count": null,
      "outputs": []
    },
    {
      "cell_type": "code",
      "metadata": {
        "id": "OaGElo1ugVIa"
      },
      "source": [
        ""
      ],
      "execution_count": null,
      "outputs": []
    },
    {
      "cell_type": "code",
      "metadata": {
        "id": "CJM6gzqjgVLW"
      },
      "source": [
        ""
      ],
      "execution_count": null,
      "outputs": []
    },
    {
      "cell_type": "code",
      "metadata": {
        "id": "dUJP50_2gVN0"
      },
      "source": [
        ""
      ],
      "execution_count": null,
      "outputs": []
    },
    {
      "cell_type": "code",
      "metadata": {
        "id": "_CX7Y8NTgVRB"
      },
      "source": [
        ""
      ],
      "execution_count": null,
      "outputs": []
    }
  ]
}